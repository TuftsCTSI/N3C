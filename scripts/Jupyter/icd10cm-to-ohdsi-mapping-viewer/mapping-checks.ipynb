import pandas as pd
import requests

# Download the table from GitHub
url = 'https://github.com/TuftsCTSI/N3C/blob/Monthly-July-Terminology-Update/docs/icd10cm-to-omop-on-sssom/ICD10CM-to-OHDSI-Mappings.xlsx?raw=true'
file_path = "temp_file.xlsm"
response = requests.get(url)
with open(file_path, 'wb') as f:
    f.write(response.content)
data = pd.read_excel(file_path, engine='openpyxl')


# Error checking functions
def confidence_error(df):
    st = df.confidence.describe()
    if st['max'] > 1 and st['min'] < 0:
        return 'Error: max confidence cannot be more than 1 and min confidence cannot be less than 0'
    elif st['max'] > 1:
        return 'Error: max confidence cannot be more than 1'
    elif st['min'] < 0:
        return 'Error: min confidence cannot be less than 0'
    else:
        return 'No errors found'

def get_predicates(x):
    if x:
        return 'One to Many'
    else:
        return 'One to One'

def predicate_id_error(df):
    pred = df[['subject_id','predicate_id']].value_counts().rename_axis(['subject_id','predicate_id']).reset_index(name='counts')
    pred['pred'] = pred['counts'].apply(lambda x: x > 1 )
    pred['predic_id'] = pred['pred'].map(get_predicates)
    c1 = pred['predic_id'] == 'One to Many'
    c2 = pred['predicate_id'] == 'skos:exactMatch'
    pred_check = pred['subject_id'].where(c1 & c2).dropna().to_list()
    if len(pred_check) == 0:
        return 'No errors found'
    else:
        return 'Exact match have One to Many mapping, here these codes: ' + str(pred_check)

def check_standard(df, path_to_concept_csv):
    concept_df = pd.read_csv(path_to_concept_csv)
    for index, row in df.iterrows():
        concept_id = row['object_id']
        source_code = row['subject_id']
        concept_df_row = concept_df.loc[concept_df['concept_id'] == concept_id]
        if not concept_df_row.empty and concept_df_row['standard_concept'].values[0] != 'S':
            return f'Concept {concept_id} is non-standard for source code {source_code}'
    return 'All concepts are standard'

# Run checks
print(confidence_error(data))
print(predicate_id_error(data))
